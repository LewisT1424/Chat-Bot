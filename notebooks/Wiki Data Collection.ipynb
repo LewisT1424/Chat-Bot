{
 "cells": [
  {
   "cell_type": "markdown",
   "id": "d89f6d3b",
   "metadata": {},
   "source": [
    "## Data Sourcing (API)"
   ]
  },
  {
   "cell_type": "code",
   "execution_count": 1,
   "id": "3a390e2d",
   "metadata": {},
   "outputs": [],
   "source": [
    "# Import library\n",
    "import requests\n",
    "import pandas as pd\n",
    "from bs4 import BeautifulSoup"
   ]
  },
  {
   "cell_type": "code",
   "execution_count": 27,
   "id": "3200e220",
   "metadata": {},
   "outputs": [],
   "source": [
    "def api_data(url):\n",
    "    # Divider variable\n",
    "    div = (f'\\n')\n",
    "\n",
    "    # Get response fropm the API\n",
    "    response = requests.get(url)\n",
    "    \n",
    "    # Pull the paragraphs out of the raw html data\n",
    "    raw_html = response.content\n",
    "    soup = BeautifulSoup(raw_html, 'html.parser')\n",
    "    information = soup.find_all('p')\n",
    "    \n",
    "    # Remove all the HTML tags\n",
    "    paras = [i.text for i in information]\n",
    "    \n",
    "    # Removed '\\n' element if there is one\n",
    "    if '\\n' in paras:\n",
    "        paras.remove('\\n')\n",
    "    \n",
    "    # Join all the paragraphs together and add a divider between each\n",
    "    final_info = div.join(paras)\n",
    "    \n",
    "    return final_info "
   ]
  },
  {
   "cell_type": "code",
   "execution_count": 50,
   "id": "66e8bfdf",
   "metadata": {},
   "outputs": [],
   "source": [
    "urls = ['https://en.wikipedia.org/wiki/Data_science',\n",
    "        'https://en.wikipedia.org/wiki/Deep_learning',\n",
    "        'https://en.wikipedia.org/wiki/Explainable_artificial_intelligence',\n",
    "        'https://en.wikipedia.org/wiki/Data_and_information_visualization',\n",
    "        'https://en.wikipedia.org/wiki/Natural_language_processing',\n",
    "        'https://en.wikipedia.org/wiki/Data_engineering']\n",
    "\n",
    "topics = ['Data Science',\n",
    "          'Deep Learning', \n",
    "          'Explainable AI',\n",
    "          'Data Visualization',\n",
    "          'NLP',\n",
    "          'Data Engineering']"
   ]
  },
  {
   "cell_type": "code",
   "execution_count": 51,
   "id": "8e4ec4d0",
   "metadata": {},
   "outputs": [
    {
     "data": {
      "text/plain": [
       "6"
      ]
     },
     "execution_count": 51,
     "metadata": {},
     "output_type": "execute_result"
    }
   ],
   "source": [
    "len(topics)"
   ]
  },
  {
   "cell_type": "code",
   "execution_count": 34,
   "id": "c3c756d5",
   "metadata": {},
   "outputs": [],
   "source": [
    "information = [api_data(url) for url in urls]\n"
   ]
  },
  {
   "cell_type": "code",
   "execution_count": 52,
   "id": "6d01834d",
   "metadata": {},
   "outputs": [],
   "source": [
    "data_df = pd.DataFrame({'topics': topics,\n",
    "                     'information': information})"
   ]
  },
  {
   "cell_type": "code",
   "execution_count": 54,
   "id": "3e8d06b3",
   "metadata": {
    "scrolled": true
   },
   "outputs": [],
   "source": [
    "data_df.to_csv('Wiki-info-data')"
   ]
  },
  {
   "cell_type": "code",
   "execution_count": null,
   "id": "d6d462e8",
   "metadata": {},
   "outputs": [],
   "source": []
  }
 ],
 "metadata": {
  "kernelspec": {
   "display_name": "Python 3 (ipykernel)",
   "language": "python",
   "name": "python3"
  },
  "language_info": {
   "codemirror_mode": {
    "name": "ipython",
    "version": 3
   },
   "file_extension": ".py",
   "mimetype": "text/x-python",
   "name": "python",
   "nbconvert_exporter": "python",
   "pygments_lexer": "ipython3",
   "version": "3.10.6"
  },
  "toc": {
   "base_numbering": 1,
   "nav_menu": {},
   "number_sections": true,
   "sideBar": true,
   "skip_h1_title": false,
   "title_cell": "Table of Contents",
   "title_sidebar": "Contents",
   "toc_cell": false,
   "toc_position": {},
   "toc_section_display": true,
   "toc_window_display": false
  }
 },
 "nbformat": 4,
 "nbformat_minor": 5
}
