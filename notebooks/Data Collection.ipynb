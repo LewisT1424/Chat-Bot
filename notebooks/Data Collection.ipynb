{
 "cells": [
  {
   "cell_type": "markdown",
   "id": "d89f6d3b",
   "metadata": {},
   "source": [
    "# Data Sourcing (API)"
   ]
  },
  {
   "cell_type": "code",
   "execution_count": 2,
   "id": "3a390e2d",
   "metadata": {},
   "outputs": [],
   "source": [
    "# Import library\n",
    "import requests\n",
    "import pandas as pd\n",
    "from bs4 import BeautifulSoup"
   ]
  },
  {
   "cell_type": "code",
   "execution_count": 3,
   "id": "3200e220",
   "metadata": {},
   "outputs": [],
   "source": [
    "def api_data(url):\n",
    "    # Divider variable\n",
    "    div = (f'\\n')\n",
    "\n",
    "    # Get response fropm the API\n",
    "    response = requests.get(url)\n",
    "    \n",
    "    # Pull the paragraphs out of the raw html data\n",
    "    raw_html = response.content\n",
    "    soup = BeautifulSoup(raw_html, 'html.parser')\n",
    "    information = soup.find_all('p')\n",
    "    \n",
    "    # Remove all the HTML tags\n",
    "    paras = [i.text for i in information]\n",
    "    \n",
    "    # Removed '\\n' element if there is one\n",
    "    if '\\n' in paras:\n",
    "        paras.remove('\\n')\n",
    "    \n",
    "    # Join all the paragraphs together and add a divider between each\n",
    "    final_info = div.join(paras)\n",
    "    \n",
    "    return final_info "
   ]
  },
  {
   "cell_type": "code",
   "execution_count": 4,
   "id": "66e8bfdf",
   "metadata": {},
   "outputs": [],
   "source": [
    "urls = ['https://en.wikipedia.org/wiki/Data_science','https://en.wikipedia.org/wiki/Machine_learning','https://en.wikipedia.org/wiki/Deep_learning',\n",
    "       'https://en.wikipedia.org/wiki/Big_data','https://en.wikipedia.org/wiki/Predictive_analytics','https://en.wikipedia.org/wiki/Regression_analysis',\n",
    "       'https://en.wikipedia.org/wiki/Statistical_classification', 'https://en.wikipedia.org/wiki/Natural_language_processing',\n",
    "       'https://en.wikipedia.org/wiki/Data_Preprocessing', 'https://en.wikipedia.org/wiki/Feature_engineering', 'https://en.wikipedia.org/wiki/Time_series',\n",
    "       'https://en.wikipedia.org/wiki/Cluster_analysis', 'https://en.wikipedia.org/wiki/Dimensionality_reduction','https://en.wikipedia.org/wiki/Data_cleansing',\n",
    "       'https://en.wikipedia.org/wiki/Data_warehouse','https://en.wikipedia.org/wiki/Data_governance','https://en.wikipedia.org/wiki/Information_privacy',\n",
    "       'https://en.wikipedia.org/wiki/Data_and_information_visualization','https://en.wikipedia.org/wiki/Exploratory_data_analysis',\n",
    "       'https://en.wikipedia.org/wiki/A/B_testing','https://en.wikipedia.org/wiki/Ensemble_learning','https://en.wikipedia.org/wiki/Cross-validation_(statistics)',\n",
    "       'https://en.wikipedia.org/wiki/Bias%E2%80%93variance_tradeoff','https://en.wikipedia.org/wiki/Hyperparameter_optimization','https://en.wikipedia.org/wiki/Statistical_inference',\n",
    "       'https://en.wikipedia.org/wiki/Anomaly_detection','https://en.wikipedia.org/wiki/Feature_scaling','https://en.wikipedia.org/wiki/Random_forest',\n",
    "       'https://en.wikipedia.org/wiki/Support_vector_machine','https://en.wikipedia.org/wiki/Unsupervised_learning', 'https://en.wikipedia.org/wiki/Supervised_learning',\n",
    "       'https://en.wikipedia.org/wiki/Data_mining','https://en.wikipedia.org/wiki/Pattern_recognition','https://en.wikipedia.org/wiki/Statistical_hypothesis_testing',\n",
    "       'https://en.wikipedia.org/wiki/Web_scraping','https://en.wikipedia.org/wiki/Spatial_analysis','https://en.wikipedia.org/wiki/Social_network_analysis',\n",
    "       'https://en.wikipedia.org/wiki/Data_journalism','https://en.wikipedia.org/wiki/Health_care_analytics','https://en.wikipedia.org/wiki/Financial_analysis',\n",
    "       'https://en.wikipedia.org/wiki/Market_segmentation','https://en.wikipedia.org/wiki/Business_analytics','https://en.wikipedia.org/wiki/Sentiment_analysis',\n",
    "       'https://en.wikipedia.org/wiki/Quantitative_research','https://en.wikipedia.org/wiki/Data-informed_decision-making', 'https://en.wikipedia.org/wiki/Ethics_of_artificial_intelligence']\n",
    "\n",
    "topics = ['Data Science','Machine Learning','Deep Learning','Big Data','Predictive Analytics','Regression Analysis','Classification in Machine Learning',\n",
    "'Natural Language Processing','Data Pre-processing','Feature Engineering','Time Series Analysis','Cluster Analysis',\n",
    "'Dimensionality Reduction','Data Cleaning','Data Warehousing','Data Governance','Data Privacy',\n",
    "'Data Visualization','Exploratory Data Analysis (EDA)','A/B Testing','Ensemble Learning','Cross-Validation',\n",
    "'Bias-Variance Tradeoff','Hyperparameter Tuning','Statistical Inference','Outlier Detection','Feature Scaling',\n",
    "'Random Forest','Support Vector Machines (SVM)','Unsupervised Learning','Supervised Learning','Data Mining',\n",
    "'Pattern Recognition','Hypothesis Testing','Web Scraping','Spatial Analysis','Social Network Analysis','Data Journalism',\n",
    "'Healthcare Analytics','Financial Analytics','Market Segmentation','Business Analytics',\n",
    "'Sentiment Analysis','Quantitative Research','Data-driven Decision Making','Ethical AI']"
   ]
  },
  {
   "cell_type": "code",
   "execution_count": 7,
   "id": "aff35edd",
   "metadata": {},
   "outputs": [],
   "source": [
    "information = [api_data(url) for url in urls]"
   ]
  },
  {
   "cell_type": "code",
   "execution_count": 8,
   "id": "3dd70181",
   "metadata": {},
   "outputs": [
    {
     "data": {
      "text/plain": [
       "46"
      ]
     },
     "execution_count": 8,
     "metadata": {},
     "output_type": "execute_result"
    }
   ],
   "source": [
    "len(information)"
   ]
  },
  {
   "cell_type": "code",
   "execution_count": 9,
   "id": "6d01834d",
   "metadata": {},
   "outputs": [],
   "source": [
    "data_df = pd.DataFrame({'topics': topics,\n",
    "                     'information': information})"
   ]
  },
  {
   "cell_type": "code",
   "execution_count": 13,
   "id": "3e8d06b3",
   "metadata": {
    "scrolled": true
   },
   "outputs": [],
   "source": [
    "data_df.to_csv('/home/lewis/code/Chat-Bot/data/Wiki-info-data.csv', sep=',', index=False)"
   ]
  },
  {
   "cell_type": "code",
   "execution_count": null,
   "id": "496a4577",
   "metadata": {},
   "outputs": [],
   "source": []
  }
 ],
 "metadata": {
  "kernelspec": {
   "display_name": "Python 3 (ipykernel)",
   "language": "python",
   "name": "python3"
  },
  "language_info": {
   "codemirror_mode": {
    "name": "ipython",
    "version": 3
   },
   "file_extension": ".py",
   "mimetype": "text/x-python",
   "name": "python",
   "nbconvert_exporter": "python",
   "pygments_lexer": "ipython3",
   "version": "3.10.6"
  },
  "toc": {
   "base_numbering": 1,
   "nav_menu": {},
   "number_sections": true,
   "sideBar": true,
   "skip_h1_title": false,
   "title_cell": "Table of Contents",
   "title_sidebar": "Contents",
   "toc_cell": false,
   "toc_position": {},
   "toc_section_display": true,
   "toc_window_display": false
  }
 },
 "nbformat": 4,
 "nbformat_minor": 5
}
